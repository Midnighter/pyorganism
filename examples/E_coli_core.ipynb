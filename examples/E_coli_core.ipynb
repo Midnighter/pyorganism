{
 "metadata": {
  "name": ""
 },
 "nbformat": 3,
 "nbformat_minor": 0,
 "worksheets": [
  {
   "cells": [
    {
     "cell_type": "code",
     "collapsed": true,
     "input": [
      "import logging"
     ],
     "language": "python",
     "metadata": {},
     "outputs": [],
     "prompt_number": 1
    },
    {
     "cell_type": "code",
     "collapsed": true,
     "input": [
      "logger = logging.getLogger(\"\")"
     ],
     "language": "python",
     "metadata": {},
     "outputs": [],
     "prompt_number": 2
    },
    {
     "cell_type": "code",
     "collapsed": true,
     "input": [
      "logger.setLevel(logging.DEBUG)"
     ],
     "language": "python",
     "metadata": {},
     "outputs": [],
     "prompt_number": 3
    },
    {
     "cell_type": "code",
     "collapsed": false,
     "input": [
      "import pyorganism"
     ],
     "language": "python",
     "metadata": {},
     "outputs": [],
     "prompt_number": 4
    },
    {
     "cell_type": "code",
     "collapsed": false,
     "input": [
      "import pyorganism.metabolism as pymet"
     ],
     "language": "python",
     "metadata": {},
     "outputs": [
      {
       "output_type": "stream",
       "stream": "stderr",
       "text": [
        "/home/moritz/.virtualenvs/control/local/lib/python2.7/site-packages/pyorganism/metabolism/__init__.py:31: UserWarning: It seems you have no supported linear solver installed            (Gurobi): FBA is disabled.\n",
        "  (Gurobi): FBA is disabled.\")\n",
        "/home/moritz/.virtualenvs/control/local/lib/python2.7/site-packages/pyorganism/metabolism/__init__.py:44: UserWarning: You do not have the required SOAPpy package: KEGG interface            is disabled.\n",
        "  is disabled.\")\n"
       ]
      }
     ],
     "prompt_number": 5
    },
    {
     "cell_type": "code",
     "collapsed": true,
     "input": [
      "options = pyorganism.OptionsManager.get_instance()"
     ],
     "language": "python",
     "metadata": {},
     "outputs": [],
     "prompt_number": 6
    },
    {
     "cell_type": "code",
     "collapsed": false,
     "input": [
      "options.compartment_suffixes = {\"Exchange\": \"_b\", \"C_c\": \"_c\", \"C_e\": \"_e\"}"
     ],
     "language": "python",
     "metadata": {},
     "outputs": [],
     "prompt_number": 7
    },
    {
     "cell_type": "code",
     "collapsed": false,
     "input": [
      "parser = pymet.SBMLParser()"
     ],
     "language": "python",
     "metadata": {},
     "outputs": [],
     "prompt_number": 8
    },
    {
     "cell_type": "code",
     "collapsed": false,
     "input": [
      "met = parser(\"Ecoli_core.xml\")"
     ],
     "language": "python",
     "metadata": {},
     "outputs": [
      {
       "output_type": "stream",
       "stream": "stderr",
       "text": [
        "INFO:pyorganism.io.sbml:2 compartments\n"
       ]
      },
      {
       "output_type": "stream",
       "stream": "stderr",
       "text": [
        "INFO:pyorganism.io.sbml:92 (compartmentalized) compounds\n"
       ]
      },
      {
       "output_type": "stream",
       "stream": "stderr",
       "text": [
        "INFO:pyorganism.io.sbml:95 reactions\n"
       ]
      }
     ],
     "prompt_number": 9
    },
    {
     "cell_type": "code",
     "collapsed": false,
     "input": [
      "for comp in met.compartments:\n",
      "    print str(comp), comp.name, len(comp)"
     ],
     "language": "python",
     "metadata": {},
     "outputs": [
      {
       "output_type": "stream",
       "stream": "stdout",
       "text": [
        "EX Exchange 20\n",
        "C_e Extraorganism 20\n",
        "C_c Cytosol 52\n"
       ]
      }
     ],
     "prompt_number": 10
    },
    {
     "cell_type": "code",
     "collapsed": false,
     "input": [
      "(model, known_fluxes) = met.generate_fba_model(\"core\", True)"
     ],
     "language": "python",
     "metadata": {},
     "outputs": [],
     "prompt_number": 12
    },
    {
     "cell_type": "code",
     "collapsed": false,
     "input": [
      "exchange = pymet.SBMLCompartment[\"Exchange\"]"
     ],
     "language": "python",
     "metadata": {},
     "outputs": [],
     "prompt_number": 13
    },
    {
     "cell_type": "code",
     "collapsed": false,
     "input": [
      "for cmpd in exchange.iter_compartmentalized():\n",
      "    print str(cmpd)\n",
      "    model.add_compound_source(cmpd, ub=1000)\n",
      "    model.add_compound_drain(cmpd, ub=1000)"
     ],
     "language": "python",
     "metadata": {},
     "outputs": [
      {
       "output_type": "stream",
       "stream": "stdout",
       "text": [
        "co2_b\n",
        "glu-L_b\n",
        "h_b\n",
        "succ_b\n",
        "etoh_b\n",
        "gln-L_b\n",
        "for_b\n",
        "o2_b\n",
        "fru_b\n",
        "nh4_b\n",
        "pi_b\n",
        "fum_b\n",
        "pyr_b\n",
        "mal-L_b\n",
        "ac_b\n",
        "glc-D_b\n",
        "acald_b\n",
        "akg_b\n",
        "lac-D_b\n",
        "h2o_b\n"
       ]
      }
     ],
     "prompt_number": 14
    },
    {
     "cell_type": "code",
     "collapsed": false,
     "input": [
      "model.fba()"
     ],
     "language": "python",
     "metadata": {},
     "outputs": [],
     "prompt_number": 15
    },
    {
     "cell_type": "code",
     "collapsed": false,
     "input": [
      "model.get_objective_value()"
     ],
     "language": "python",
     "metadata": {},
     "outputs": [
      {
       "metadata": {},
       "output_type": "pyout",
       "prompt_number": 16,
       "text": [
        "0.8739215069622825"
       ]
      }
     ],
     "prompt_number": 16
    }
   ],
   "metadata": {}
  }
 ]
}